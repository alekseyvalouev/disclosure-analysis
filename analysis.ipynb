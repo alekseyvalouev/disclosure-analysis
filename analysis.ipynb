{
 "cells": [
  {
   "cell_type": "markdown",
   "id": "d0fa6003-248e-46a0-8304-9c6800e1dee2",
   "metadata": {
    "tags": []
   },
   "source": [
    " ### Objectives\n",
    " * Number of words in report\n",
    " * Number of hyperlinks in the report\n",
    " * Number of unique domains referenced in the hyperlinks (i.e. Disney.com counts as one domain, regardless of the page accessed)\n",
    " * The number of unique entities (using the Stanford NER tool)\n",
    " * The % of characters in the text that are numeric (i.e., (# of numeric characters/# of all alphanumeric characters) * 100)"
   ]
  },
  {
   "cell_type": "code",
   "execution_count": 25,
   "id": "fec64962-84a5-4105-b900-97bd5f0514d1",
   "metadata": {
    "tags": []
   },
   "outputs": [],
   "source": [
    "import nltk\n",
    "from nltk.tag.stanford import StanfordNERTagger\n",
    "import validators\n",
    "from urllib.parse import urlparse\n",
    "import numpy as np\n",
    "import pandas as pd\n",
    "from alive_progress import alive_bar\n",
    "import os\n",
    "import unicodedata\n",
    "import time"
   ]
  },
  {
   "cell_type": "code",
   "execution_count": 26,
   "id": "12ffd46e-78a9-4ca5-bcf9-49d2740456d8",
   "metadata": {},
   "outputs": [],
   "source": [
    "PATH_TO_JAR='/Users/alekseyvalouev/Desktop/Internship/disclosure-analysis/stanford-ner/stanford-ner.jar'\n",
    "PATH_TO_MODEL = '/Users/alekseyvalouev/Desktop/Internship/disclosure-analysis/stanford-ner/classifiers/english.all.3class.distsim.crf.ser.gz'"
   ]
  },
  {
   "cell_type": "code",
   "execution_count": 27,
   "id": "fe4e0fd2-8072-4080-b8fe-30750ecdc06d",
   "metadata": {},
   "outputs": [],
   "source": [
    "tagger = StanfordNERTagger(model_filename=PATH_TO_MODEL,path_to_jar=PATH_TO_JAR, encoding='utf-8')"
   ]
  },
  {
   "cell_type": "code",
   "execution_count": 28,
   "id": "a58f637e-abfa-47e6-b93c-651712d1f2ef",
   "metadata": {},
   "outputs": [],
   "source": [
    "file = open(\"test.txt\", \"r\")\n",
    "data = file.read()\n",
    "\n",
    "words = nltk.word_tokenize(data) "
   ]
  },
  {
   "cell_type": "code",
   "execution_count": 29,
   "id": "1bd5f17a-7c40-4bf3-a9a0-86a4e4b46c5d",
   "metadata": {},
   "outputs": [],
   "source": [
    "tagged = tagger.tag(words)"
   ]
  },
  {
   "cell_type": "code",
   "execution_count": 30,
   "id": "5d6cff93-a598-496f-b352-53a39d520216",
   "metadata": {},
   "outputs": [],
   "source": [
    "real_entities =  [i for i in tagged if i[1] != \"O\"]"
   ]
  },
  {
   "cell_type": "code",
   "execution_count": 31,
   "id": "8a9fd7c3-08fe-4d78-a4c9-866105706227",
   "metadata": {},
   "outputs": [],
   "source": [
    "def get_unique_entities(inp):\n",
    "    values = []\n",
    "    out = []\n",
    "    for i in inp:\n",
    "        if i[0] not in values:\n",
    "            out.append(i)\n",
    "            values.append(i[0])\n",
    "            \n",
    "    return out"
   ]
  },
  {
   "cell_type": "code",
   "execution_count": 32,
   "id": "8626398d-8201-4322-b2e6-7aca5c34df4d",
   "metadata": {},
   "outputs": [],
   "source": [
    "def get_entity_count(line):\n",
    "    entities = [i for i in tagger.tag(nltk.word_tokenize(line)) if i[1] != \"O\"]\n",
    "    return len(get_unique_entities(entities)), len(entities)\n",
    "\n",
    "def get_word_count(line):\n",
    "    return len(line.split(\" \"))\n",
    "\n",
    "def get_hyperlink_count(line):\n",
    "    words = line.split(\" \")\n",
    "    i = 0\n",
    "    domains = []\n",
    "    for word in words:\n",
    "        if (validators.url(word)):\n",
    "            domain = urlparse(word).netloc\n",
    "            if domain not in domains:\n",
    "                domains.append(domain)\n",
    "            i+=1\n",
    "    return i, len(domains)\n",
    "\n",
    "def get_numeric_percent(line):\n",
    "    numbers = sum(c.isdigit() for c in line)\n",
    "    try:\n",
    "        return np.round((numbers / len(line))*100, 2)\n",
    "    except ZeroDivisionError:\n",
    "        return 0\n"
   ]
  },
  {
   "cell_type": "code",
   "execution_count": 33,
   "id": "88fb16e0-b274-4f80-a327-db74023d9f1e",
   "metadata": {},
   "outputs": [],
   "source": [
    "def get_new_row(filename, line):\n",
    "    line = line.replace(u'\\xa0', u' ')\n",
    "    line = line.replace(u'\\n', u' ')\n",
    "    unique_ner, ner = get_entity_count(line)\n",
    "    wordcount = get_word_count(line)\n",
    "    hcount, dcount = get_hyperlink_count(line)\n",
    "    numeric = get_numeric_percent(line)\n",
    "    return {'Filename': filename, 'Wordcount' : wordcount, 'Hyperlinks' : hcount, 'Domains' : dcount, 'Unique NER Entities' : unique_ner, 'Total NER Entities': ner, '% Numeric Characters' : numeric}"
   ]
  },
  {
   "cell_type": "code",
   "execution_count": 34,
   "id": "f586987e-db92-4405-bb47-793da94bc4db",
   "metadata": {},
   "outputs": [],
   "source": [
    "df = pd.DataFrame(columns = ['Filename', 'Wordcount', 'Hyperlinks', 'Domains', 'Unique NER Entities', 'Total NER Entities', '% Numeric Characters'])"
   ]
  },
  {
   "cell_type": "code",
   "execution_count": 35,
   "id": "efcd670e-7d8a-4217-ba73-0c5d28a504da",
   "metadata": {
    "tags": []
   },
   "outputs": [
    {
     "name": "stdout",
     "output_type": "stream",
     "text": [
      "|████████████████████████████████████████| 2476/2476 [100%] in 1:37:36.7 (0.42/s)                                       \n"
     ]
    }
   ],
   "source": [
    "# assign directory\n",
    "directory = 'No Disclaimer Reports'\n",
    "\n",
    "file_count = len(os.listdir(directory))\n",
    " \n",
    "# progress bar\n",
    "with alive_bar(file_count, force_tty=True) as bar:\n",
    "    # loop through files\n",
    "    for filename in os.listdir(directory):\n",
    "        f = os.path.join(directory, filename)\n",
    "        # checking if it is a file\n",
    "        if os.path.isfile(f):\n",
    "            with open(f, \"r\", encoding='utf-8') as f:\n",
    "                data = f.read()\n",
    "                add = get_new_row(filename, data)\n",
    "                df = pd.concat([df, pd.DataFrame(add, index=[0])]).reset_index(drop=True)\n",
    "                 \n",
    "        bar()"
   ]
  },
  {
   "cell_type": "code",
   "execution_count": 39,
   "id": "d74fe639-7555-411a-8e16-1463a8b81a53",
   "metadata": {},
   "outputs": [
    {
     "data": {
      "text/html": [
       "<div>\n",
       "<style scoped>\n",
       "    .dataframe tbody tr th:only-of-type {\n",
       "        vertical-align: middle;\n",
       "    }\n",
       "\n",
       "    .dataframe tbody tr th {\n",
       "        vertical-align: top;\n",
       "    }\n",
       "\n",
       "    .dataframe thead th {\n",
       "        text-align: right;\n",
       "    }\n",
       "</style>\n",
       "<table border=\"1\" class=\"dataframe\">\n",
       "  <thead>\n",
       "    <tr style=\"text-align: right;\">\n",
       "      <th></th>\n",
       "      <th>Filename</th>\n",
       "      <th>Wordcount</th>\n",
       "      <th>Hyperlinks</th>\n",
       "      <th>Domains</th>\n",
       "      <th>Unique NER Entities</th>\n",
       "      <th>Total NER Entities</th>\n",
       "      <th>% Numeric Characters</th>\n",
       "    </tr>\n",
       "  </thead>\n",
       "  <tbody>\n",
       "    <tr>\n",
       "      <th>0</th>\n",
       "      <td>300301_Aurelius_BOFI_2015_6.p.txt</td>\n",
       "      <td>2314</td>\n",
       "      <td>30</td>\n",
       "      <td>11</td>\n",
       "      <td>38</td>\n",
       "      <td>138</td>\n",
       "      <td>2.89</td>\n",
       "    </tr>\n",
       "    <tr>\n",
       "      <th>1</th>\n",
       "      <td>74_Bronte Capital_UTA_2010_6.p.txt</td>\n",
       "      <td>1363</td>\n",
       "      <td>24</td>\n",
       "      <td>6</td>\n",
       "      <td>12</td>\n",
       "      <td>28</td>\n",
       "      <td>2.72</td>\n",
       "    </tr>\n",
       "    <tr>\n",
       "      <th>2</th>\n",
       "      <td>472_Trinity Research Group_VNET_2014_1.p.txt</td>\n",
       "      <td>34847</td>\n",
       "      <td>428</td>\n",
       "      <td>48</td>\n",
       "      <td>502</td>\n",
       "      <td>2613</td>\n",
       "      <td>5.49</td>\n",
       "    </tr>\n",
       "    <tr>\n",
       "      <th>3</th>\n",
       "      <td>277_Asensio_OLED_2013_14.p.txt</td>\n",
       "      <td>1592</td>\n",
       "      <td>49</td>\n",
       "      <td>4</td>\n",
       "      <td>39</td>\n",
       "      <td>93</td>\n",
       "      <td>2.18</td>\n",
       "    </tr>\n",
       "    <tr>\n",
       "      <th>4</th>\n",
       "      <td>91044_Quintessential_ON_2019.p.txt</td>\n",
       "      <td>4638</td>\n",
       "      <td>0</td>\n",
       "      <td>0</td>\n",
       "      <td>41</td>\n",
       "      <td>138</td>\n",
       "      <td>1.93</td>\n",
       "    </tr>\n",
       "    <tr>\n",
       "      <th>...</th>\n",
       "      <td>...</td>\n",
       "      <td>...</td>\n",
       "      <td>...</td>\n",
       "      <td>...</td>\n",
       "      <td>...</td>\n",
       "      <td>...</td>\n",
       "      <td>...</td>\n",
       "    </tr>\n",
       "    <tr>\n",
       "      <th>2470</th>\n",
       "      <td>307002_WhiteDiamondResearch_AXDX_2019_1.p.txt</td>\n",
       "      <td>6361</td>\n",
       "      <td>70</td>\n",
       "      <td>16</td>\n",
       "      <td>73</td>\n",
       "      <td>171</td>\n",
       "      <td>2.96</td>\n",
       "    </tr>\n",
       "    <tr>\n",
       "      <th>2471</th>\n",
       "      <td>331_Richard Pearson_UNIS_2013_1.p.txt</td>\n",
       "      <td>7560</td>\n",
       "      <td>83</td>\n",
       "      <td>12</td>\n",
       "      <td>92</td>\n",
       "      <td>321</td>\n",
       "      <td>2.44</td>\n",
       "    </tr>\n",
       "    <tr>\n",
       "      <th>2472</th>\n",
       "      <td>359_Absaroka Capital_GEDU_2011_1.p.txt</td>\n",
       "      <td>8166</td>\n",
       "      <td>3</td>\n",
       "      <td>1</td>\n",
       "      <td>151</td>\n",
       "      <td>836</td>\n",
       "      <td>2.87</td>\n",
       "    </tr>\n",
       "    <tr>\n",
       "      <th>2473</th>\n",
       "      <td>630_Mithra Forensic Research_VIPS_2015_3.p.txt</td>\n",
       "      <td>3818</td>\n",
       "      <td>30</td>\n",
       "      <td>3</td>\n",
       "      <td>25</td>\n",
       "      <td>82</td>\n",
       "      <td>2.90</td>\n",
       "    </tr>\n",
       "    <tr>\n",
       "      <th>2474</th>\n",
       "      <td>301507_GeoInvesting_RAVN_2016_1.p.txt</td>\n",
       "      <td>3387</td>\n",
       "      <td>33</td>\n",
       "      <td>7</td>\n",
       "      <td>36</td>\n",
       "      <td>102</td>\n",
       "      <td>2.98</td>\n",
       "    </tr>\n",
       "  </tbody>\n",
       "</table>\n",
       "<p>2475 rows × 7 columns</p>\n",
       "</div>"
      ],
      "text/plain": [
       "                                            Filename Wordcount Hyperlinks  \\\n",
       "0                  300301_Aurelius_BOFI_2015_6.p.txt      2314         30   \n",
       "1                 74_Bronte Capital_UTA_2010_6.p.txt      1363         24   \n",
       "2       472_Trinity Research Group_VNET_2014_1.p.txt     34847        428   \n",
       "3                     277_Asensio_OLED_2013_14.p.txt      1592         49   \n",
       "4                 91044_Quintessential_ON_2019.p.txt      4638          0   \n",
       "...                                              ...       ...        ...   \n",
       "2470   307002_WhiteDiamondResearch_AXDX_2019_1.p.txt      6361         70   \n",
       "2471           331_Richard Pearson_UNIS_2013_1.p.txt      7560         83   \n",
       "2472          359_Absaroka Capital_GEDU_2011_1.p.txt      8166          3   \n",
       "2473  630_Mithra Forensic Research_VIPS_2015_3.p.txt      3818         30   \n",
       "2474           301507_GeoInvesting_RAVN_2016_1.p.txt      3387         33   \n",
       "\n",
       "     Domains Unique NER Entities Total NER Entities  % Numeric Characters  \n",
       "0         11                  38                138                  2.89  \n",
       "1          6                  12                 28                  2.72  \n",
       "2         48                 502               2613                  5.49  \n",
       "3          4                  39                 93                  2.18  \n",
       "4          0                  41                138                  1.93  \n",
       "...      ...                 ...                ...                   ...  \n",
       "2470      16                  73                171                  2.96  \n",
       "2471      12                  92                321                  2.44  \n",
       "2472       1                 151                836                  2.87  \n",
       "2473       3                  25                 82                  2.90  \n",
       "2474       7                  36                102                  2.98  \n",
       "\n",
       "[2475 rows x 7 columns]"
      ]
     },
     "execution_count": 39,
     "metadata": {},
     "output_type": "execute_result"
    }
   ],
   "source": [
    "df"
   ]
  },
  {
   "cell_type": "code",
   "execution_count": 38,
   "id": "5d63b0fb-5f48-44e7-8590-2803aee4dd7d",
   "metadata": {},
   "outputs": [],
   "source": [
    "df.to_csv(\"out.csv\", index=False)"
   ]
  },
  {
   "cell_type": "code",
   "execution_count": null,
   "id": "eb3fe972-aec0-4233-a744-f30de9d318ce",
   "metadata": {},
   "outputs": [],
   "source": []
  }
 ],
 "metadata": {
  "kernelspec": {
   "display_name": "Python 3 (ipykernel)",
   "language": "python",
   "name": "python3"
  },
  "language_info": {
   "codemirror_mode": {
    "name": "ipython",
    "version": 3
   },
   "file_extension": ".py",
   "mimetype": "text/x-python",
   "name": "python",
   "nbconvert_exporter": "python",
   "pygments_lexer": "ipython3",
   "version": "3.9.7"
  }
 },
 "nbformat": 4,
 "nbformat_minor": 5
}
