{
 "cells": [
  {
   "cell_type": "markdown",
   "id": "3770e2cd-d1f2-4a76-907d-a59b4fa7c218",
   "metadata": {},
   "source": [
    " ### Disclaimer Removal\n",
    " * Start Phrases:\n",
    "   * Use of Muddy Waters\n",
    "   * These Terms of Use govern\n",
    "   * Terms of Service\n",
    " * End Phrases;\n",
    "   * herein.\n",
    "   * forever barred."
   ]
  },
  {
   "cell_type": "code",
   "execution_count": 1,
   "id": "6c6c52a0-db79-435c-a313-64a5b1120ccb",
   "metadata": {},
   "outputs": [],
   "source": [
    "from alive_progress import alive_bar\n",
    "import os\n",
    "import unicodedata\n",
    "import time"
   ]
  },
  {
   "cell_type": "code",
   "execution_count": 9,
   "id": "1d66068c-e9ca-4136-9c04-ce22f817ed61",
   "metadata": {},
   "outputs": [
    {
     "name": "stdout",
     "output_type": "stream",
     "text": [
      "|████████████████████████████████████████| 2476/2476 [100%] in 2.9s (847.86/s)                                          \n",
      "Out of 80 Muddy Waters disclosures, 72 disclaimers removed\n"
     ]
    }
   ],
   "source": [
    "# assign directory\n",
    "directory = 'Comment Truncated Reports'\n",
    "\n",
    "out_directory = \"No Disclaimer Reports\"\n",
    "\n",
    "start_phrases = [\"Use of Muddy waters\", \"These Terms of Use govern\", \"Terms of Service\", \"Disclaimer\"]\n",
    "\n",
    "end_phrases = [\"herein.\", \"forever barred.\", \"employees.\"]\n",
    "\n",
    "match_count = 0\n",
    "found_count = 0\n",
    "\n",
    "disc_start = -1\n",
    "disc_end = -1\n",
    "\n",
    "file_count = len(os.listdir(directory))\n",
    " \n",
    "# progress bar\n",
    "with alive_bar(file_count, force_tty=True) as bar:\n",
    "    # loop through files\n",
    "    for filename in os.listdir(directory):\n",
    "        f = os.path.join(directory, filename)\n",
    "        # checking if it is a file\n",
    "        if os.path.isfile(f):\n",
    "            if (\"Muddy Waters\" in filename):\n",
    "                match_count+=1\n",
    "                with open(f, 'r') as file:\n",
    "                    disc_start = -1\n",
    "                    disc_end = -1\n",
    "                    lines = file.readlines()\n",
    "                    for line_index, line in enumerate(lines):\n",
    "                        if (disc_start == -1):\n",
    "                            for i in start_phrases:\n",
    "                                if (i.lower() in line.lower()):\n",
    "                                    disc_start = line_index\n",
    "                        else:\n",
    "                            for i in end_phrases:\n",
    "                                if (i.lower() in line.lower()):\n",
    "                                    disc_end = line_index\n",
    "                \n",
    "                if (disc_start != -1 and disc_end != -1):\n",
    "                    found_count+=1\n",
    "                    wf = os.path.join(directory, \"..\", out_directory, filename)\n",
    "                    with open(wf, 'w') as file:\n",
    "                        for number, line in enumerate(lines):\n",
    "                            if number < disc_start or number > disc_end:\n",
    "                                file.write(line)\n",
    "                else:\n",
    "                    wf = os.path.join(directory, \"..\", out_directory, filename)\n",
    "                    with open(wf, 'w') as file:\n",
    "                        for number, line in enumerate(lines):\n",
    "                            file.write(line)\n",
    "            else:\n",
    "                wf = os.path.join(directory, \"..\", out_directory, filename)\n",
    "                with open(wf, 'w') as file:\n",
    "                    for number, line in enumerate(lines):\n",
    "                        file.write(line)\n",
    "                    \n",
    "        bar()\n",
    "\n",
    "print(\"Out of %s Muddy Waters disclosures, %s disclaimers removed\" % (match_count, found_count))"
   ]
  }
 ],
 "metadata": {
  "kernelspec": {
   "display_name": "Python 3 (ipykernel)",
   "language": "python",
   "name": "python3"
  },
  "language_info": {
   "codemirror_mode": {
    "name": "ipython",
    "version": 3
   },
   "file_extension": ".py",
   "mimetype": "text/x-python",
   "name": "python",
   "nbconvert_exporter": "python",
   "pygments_lexer": "ipython3",
   "version": "3.9.7"
  }
 },
 "nbformat": 4,
 "nbformat_minor": 5
}
