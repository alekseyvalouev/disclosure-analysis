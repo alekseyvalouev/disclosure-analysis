{
 "cells": [
  {
   "cell_type": "markdown",
   "id": "6355334f-b615-4c15-878e-8aac81331796",
   "metadata": {},
   "source": [
    "### Removing Comments\n",
    " * Find pattern present in all comments\n",
    "     * Check for the word \"Comments\" and check words around it for numbers"
   ]
  },
  {
   "cell_type": "code",
   "execution_count": 40,
   "id": "7f7f7d1e-7c4e-4929-9a96-881dee8b40e7",
   "metadata": {},
   "outputs": [],
   "source": [
    "from alive_progress import alive_bar\n",
    "import os\n",
    "import unicodedata\n",
    "import time"
   ]
  },
  {
   "cell_type": "code",
   "execution_count": 83,
   "id": "b3d670ff-5705-4a18-8ba7-6dde8b69619c",
   "metadata": {},
   "outputs": [
    {
     "name": "stdout",
     "output_type": "stream",
     "text": [
      "on 2032: 7_Whitney Tilson_LL_2015_8.p.txt                                                                               \n",
      "on 2032: Entering Try                                                                                                   \n",
      "on 2032: Mar. 23  2015 8 50   ET246 comments                                                                            \n",
      "on 2032: ['Mar.', '23', '2015', '8', '50', 'ET246', 'comments']                                                         \n",
      "on 2032: Commment with number found                                                                                     \n",
      "on 2032: Mar. 23  2015 8 50   ET246 comments                                                                            \n",
      "on 2032: Entering Try                                                                                                   \n",
      "on 2032: Comments  246                                                                                                  \n",
      "on 2032: ['Comments', '246']                                                                                            \n",
      "on 2032: Commment with number found                                                                                     \n",
      "on 2032: Comments  246                                                                                                  \n",
      "on 2032: 7_Whitney Tilson_LL_2015_8.p.txt                                                                               \n",
      "on 2032: Comments (246)                                                                                                 \n",
      "|████████████████████████████████████████| 2476/2476 [100%] in 5.9s (419.65/s)                                          \n",
      "TOTAL: 2476, HAS WORD COMMENT: 1658, TOTAL COMMMENTS: 1296\n"
     ]
    }
   ],
   "source": [
    "# assign directory\n",
    "directory = 'Short Selling Reports-- Text'\n",
    "\n",
    "out_directory = \"Comment Truncated Reports\"\n",
    "\n",
    "comment_count = 0\n",
    "has_comment_count = 0\n",
    "total_count = 0\n",
    "\n",
    "file_count = len(os.listdir(directory))\n",
    " \n",
    "# progress bar\n",
    "with alive_bar(file_count, force_tty=True) as bar:\n",
    "    # loop through files\n",
    "    for filename in os.listdir(directory):\n",
    "        f = os.path.join(directory, filename)\n",
    "        # checking if it is a file\n",
    "        if os.path.isfile(f):\n",
    "            with open(f, 'r') as file:\n",
    "                lines = file.readlines()\n",
    "                # counter variable\n",
    "                has_comment = False\n",
    "                # this is sort of redundant\n",
    "                num = False\n",
    "                # end state (is this a valid comment or not)\n",
    "                state = False\n",
    "                for line_index, line in enumerate(lines):\n",
    "                    if \"Comments\" in line or \"comments\" in line:\n",
    "                        if \"Comments\" in line:\n",
    "                            case = \"Comments\"\n",
    "                        else:\n",
    "                            case = \"comments\"\n",
    "                        # another counter\n",
    "                        has_comment = True\n",
    "                        line = unicodedata.normalize(\"NFKD\", line)\n",
    "                        replace = [\"\\t\", \"\\n\", \":\", \",\", \"(\", \")\", \"AM\", \"PM\"]\n",
    "                        for r in replace:\n",
    "                            line = line.replace(r, \" \")\n",
    "                        words = line.split(\" \")\n",
    "                        words = [i for i in words if i != \"\"]\n",
    "                        try:\n",
    "                            ind = words.index(case)\n",
    "                            num = False\n",
    "                            if ind-1 != -1:\n",
    "                                num = any(char.isdigit() for char in words[ind-1]) # and not (\"ET\" in words[ind-1])\n",
    "                                if num:\n",
    "                                    state = any(char.isdigit() for char in words[ind-1]) and not (\"ET\" in words[ind-1])\n",
    "                            if ind+1 != len(words):\n",
    "                                num = any(char.isdigit() for char in words[ind+1]) # and not (\"ET\" in words[ind+1])\n",
    "                                if num:\n",
    "                                    state = any(char.isdigit() for char in words[ind+1]) and not (\"ET\" in words[ind+1])\n",
    "                            if state:\n",
    "                                comment_count+=1\n",
    "                                comment_line = line_index\n",
    "                                break\n",
    "                        except KeyboardInterrupt:\n",
    "                            raise\n",
    "                        except ValueError:\n",
    "                            pass # this should only catch links\n",
    "                        \n",
    "\n",
    "                if has_comment:\n",
    "                    has_comment_count+=1\n",
    "            wf = os.path.join(directory, \"..\", out_directory, filename)\n",
    "            with open(wf, 'w') as file:\n",
    "                for number, line in enumerate(lines):\n",
    "                    if state:\n",
    "                        if number < comment_line:\n",
    "                            file.write(line)\n",
    "                        else:\n",
    "                            break\n",
    "                    else:\n",
    "                        file.write(line)\n",
    "                    \n",
    "        total_count+=1\n",
    "        bar()\n",
    "\n",
    "print(\"TOTAL: %s, HAS WORD COMMENT: %s, TOTAL COMMMENTS: %s\" % (total_count, has_comment_count, comment_count))\n",
    "                    "
   ]
  },
  {
   "cell_type": "code",
   "execution_count": null,
   "id": "b2c08db8-7617-4d58-9753-fa050985e850",
   "metadata": {},
   "outputs": [],
   "source": []
  }
 ],
 "metadata": {
  "kernelspec": {
   "display_name": "Python 3 (ipykernel)",
   "language": "python",
   "name": "python3"
  },
  "language_info": {
   "codemirror_mode": {
    "name": "ipython",
    "version": 3
   },
   "file_extension": ".py",
   "mimetype": "text/x-python",
   "name": "python",
   "nbconvert_exporter": "python",
   "pygments_lexer": "ipython3",
   "version": "3.9.7"
  }
 },
 "nbformat": 4,
 "nbformat_minor": 5
}
